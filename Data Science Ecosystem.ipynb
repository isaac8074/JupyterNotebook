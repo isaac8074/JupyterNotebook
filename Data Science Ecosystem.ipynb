{
  "nbformat": 4,
  "nbformat_minor": 0,
  "metadata": {
    "colab": {
      "provenance": []
    },
    "kernelspec": {
      "name": "python3",
      "display_name": "Python 3"
    },
    "language_info": {
      "name": "python"
    }
  },
  "cells": [
    {
      "cell_type": "markdown",
      "source": [
        "<h1>Data Science Tools and Ecosystem</h1>"
      ],
      "metadata": {
        "id": "699Jmw7ZkXrK"
      }
    },
    {
      "cell_type": "markdown",
      "source": [
        "# Data Science Tools and Ecosystem\n",
        "\n",
        "In this notebook, we summarize the essential tools and ecosystem components for data science. 📊🔍\n"
      ],
      "metadata": {
        "id": "QmlqCCpukyYC"
      }
    },
    {
      "cell_type": "markdown",
      "source": [
        "# Popular Data Science Languages\n",
        "\n",
        "Some of the commonly used programming languages in data science include:\n",
        "\n",
        "1. **Python**: Known for its intuitive syntax, extensive libraries for data analysis, visualization, and machine learning.\n",
        "2. **R**: Widely used for data mining and statistical analysis, with a robust support community.\n",
        "3. **SQL**: Crucial for querying data and managing databases.\n",
        "\n",
        "Feel free to take a screenshot of this markdown cell and save it as \"4-dslanguages.png\". 📸👍\n"
      ],
      "metadata": {
        "id": "16typZ3XlFyk"
      }
    },
    {
      "cell_type": "markdown",
      "source": [
        "## Some of the commonly used libraries used by Data Scientists include:\n",
        "\n",
        "1. **Pandas**: A powerful data manipulation and analysis library.\n",
        "2. **NumPy**: Essential for numerical computing and array operations.\n",
        "3. **Scikit-learn**: A machine learning library with various algorithms."
      ],
      "metadata": {
        "id": "KoDQhL3DloK7"
      }
    },
    {
      "cell_type": "markdown",
      "source": [
        "# Data Science Tools\n",
        "\n",
        "| **Development Environment** |\n",
        "|-----------------------------|\n",
        "| Jupyter Notebook            |\n",
        "| RStudio                     |\n",
        "| Visual Studio Code          |"
      ],
      "metadata": {
        "id": "u31FUBjMoAze"
      }
    },
    {
      "cell_type": "markdown",
      "source": [
        "### Below are a few examples of evaluating arithmetic expressions in Python."
      ],
      "metadata": {
        "id": "3lZfbhuGrP4w"
      }
    },
    {
      "cell_type": "code",
      "source": [
        "# This is a simple arithmetic expression to multiply then add integers.\n",
        "result = (3 * 4) + 5\n",
        "print(result)  # Output: 17"
      ],
      "metadata": {
        "colab": {
          "base_uri": "https://localhost:8080/"
        },
        "id": "WlyTVBIZkuQB",
        "outputId": "81c853d4-3aad-41fc-d18d-fb5e37812d39"
      },
      "execution_count": 1,
      "outputs": [
        {
          "output_type": "stream",
          "name": "stdout",
          "text": [
            "17\n"
          ]
        }
      ]
    },
    {
      "cell_type": "code",
      "source": [
        "# This will convert 200 minutes to hours by dividing by 60.\n",
        "total_minutes = 200\n",
        "hours = total_minutes // 60\n",
        "minutes = total_minutes % 60\n",
        "time_string = f\"{hours}:{minutes:02d}\"\n",
        "print(time_string)  # Output: 3:20"
      ],
      "metadata": {
        "colab": {
          "base_uri": "https://localhost:8080/"
        },
        "id": "H3nOS8korizm",
        "outputId": "9ea06e94-012c-46d1-c95b-cf7c6f0409c7"
      },
      "execution_count": 2,
      "outputs": [
        {
          "output_type": "stream",
          "name": "stdout",
          "text": [
            "3:20\n"
          ]
        }
      ]
    },
    {
      "cell_type": "markdown",
      "source": [
        "### Objectives:\n",
        "\n",
        "- Explore popular languages for Data Science.\n",
        "- Understand basic arithmetic expressions in Python.\n",
        "- Convert minutes to hours using Python.\n",
        "- Learn how to create and format Markdown cells in Jupyter Notebook.\n",
        "- Gain familiarity with code and text cells.\n"
      ],
      "metadata": {
        "id": "HYij01xOr425"
      }
    },
    {
      "cell_type": "markdown",
      "source": [
        "## Author\n",
        "Jose Isaac Bustamante"
      ],
      "metadata": {
        "id": "lQbjumcksJjG"
      }
    }
  ]
}